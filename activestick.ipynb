{
 "cells": [
  {
   "cell_type": "code",
   "execution_count": 1,
   "id": "wanted-northern",
   "metadata": {},
   "outputs": [
    {
     "data": {
      "text/latex": [
       "$\\displaystyle e = - H y + u$"
      ],
      "text/plain": [
       "Eq(e, -H*y + u)"
      ]
     },
     "metadata": {},
     "output_type": "display_data"
    },
    {
     "data": {
      "text/latex": [
       "$\\displaystyle y = G e$"
      ],
      "text/plain": [
       "Eq(y, G*e)"
      ]
     },
     "metadata": {},
     "output_type": "display_data"
    },
    {
     "data": {
      "text/plain": [
       "{y: G*u/(G*H + 1), e: u/(G*H + 1)}"
      ]
     },
     "metadata": {},
     "output_type": "display_data"
    }
   ],
   "source": [
    "from sympy.interactive import printing\n",
    "from sympy import Eq, solve, symbols, solve_linear, var\n",
    "\n",
    "# the principle, solve a closed loop, G forward, H back\n",
    "u, e, y, H, G = symbols(\"u e y H G\")\n",
    "eq1 = Eq(e, u - y*H)\n",
    "eq2 = Eq(y, G*e)\n",
    "display(eq1)\n",
    "display(eq2)\n",
    "\n",
    "display(solve((eq1, eq2), [y, e]))"
   ]
  },
  {
   "cell_type": "code",
   "execution_count": 2,
   "id": "governing-presentation",
   "metadata": {},
   "outputs": [
    {
     "name": "stdout",
     "output_type": "stream",
     "text": [
      "pilot equalisation\n"
     ]
    },
    {
     "data": {
      "text/latex": [
       "$\\displaystyle u_{sup} = H_{p} e$"
      ],
      "text/plain": [
       "Eq(u_sup, H_p*e)"
      ]
     },
     "metadata": {},
     "output_type": "display_data"
    },
    {
     "name": "stdout",
     "output_type": "stream",
     "text": [
      "activation dynamic\n"
     ]
    },
    {
     "data": {
      "text/latex": [
       "$\\displaystyle u_{refl} = H_{act} \\left(- u_{gto} - u_{ms} + u_{sup}\\right)$"
      ],
      "text/plain": [
       "Eq(u_refl, H_act*(-u_gto - u_ms + u_sup))"
      ]
     },
     "metadata": {},
     "output_type": "display_data"
    },
    {
     "name": "stdout",
     "output_type": "stream",
     "text": [
      "ms signal\n"
     ]
    },
    {
     "data": {
      "text/latex": [
       "$\\displaystyle u_{ms} = H_{ms} x_{arm}$"
      ],
      "text/plain": [
       "Eq(u_ms, H_ms*x_arm)"
      ]
     },
     "metadata": {},
     "output_type": "display_data"
    },
    {
     "name": "stdout",
     "output_type": "stream",
     "text": [
      "muscle force\n"
     ]
    },
    {
     "data": {
      "text/latex": [
       "$\\displaystyle m_{mus} = - m_{i} + u_{refl}$"
      ],
      "text/plain": [
       "Eq(m_mus, -m_i + u_refl)"
      ]
     },
     "metadata": {},
     "output_type": "display_data"
    },
    {
     "name": "stdout",
     "output_type": "stream",
     "text": [
      "gto signal\n"
     ]
    },
    {
     "data": {
      "text/latex": [
       "$\\displaystyle u_{gto} = H_{gto} m_{mus}$"
      ],
      "text/plain": [
       "Eq(u_gto, H_gto*m_mus)"
      ]
     },
     "metadata": {},
     "output_type": "display_data"
    },
    {
     "name": "stdout",
     "output_type": "stream",
     "text": [
      "intrinsic muscle force\n"
     ]
    },
    {
     "data": {
      "text/latex": [
       "$\\displaystyle m_{i} = H_{i} x_{arm}$"
      ],
      "text/plain": [
       "Eq(m_i, H_i*x_arm)"
      ]
     },
     "metadata": {},
     "output_type": "display_data"
    },
    {
     "name": "stdout",
     "output_type": "stream",
     "text": [
      "resultant limb force\n"
     ]
    },
    {
     "data": {
      "text/latex": [
       "$\\displaystyle m_{res} = - m_{grip} + m_{mus}$"
      ],
      "text/plain": [
       "Eq(m_res, -m_grip + m_mus)"
      ]
     },
     "metadata": {},
     "output_type": "display_data"
    },
    {
     "name": "stdout",
     "output_type": "stream",
     "text": [
      "limb dynamics\n"
     ]
    },
    {
     "data": {
      "text/latex": [
       "$\\displaystyle x_{arm} = H_{arm} m_{res}$"
      ],
      "text/plain": [
       "Eq(x_arm, H_arm*m_res)"
      ]
     },
     "metadata": {},
     "output_type": "display_data"
    },
    {
     "name": "stdout",
     "output_type": "stream",
     "text": [
      "grip dynamics\n"
     ]
    },
    {
     "data": {
      "text/latex": [
       "$\\displaystyle m_{grip} = H_{skin} \\left(x_{arm} - x_{m}\\right)$"
      ],
      "text/plain": [
       "Eq(m_grip, H_skin*(x_arm - x_m))"
      ]
     },
     "metadata": {},
     "output_type": "display_data"
    },
    {
     "name": "stdout",
     "output_type": "stream",
     "text": [
      "system dynamics\n"
     ]
    },
    {
     "data": {
      "text/latex": [
       "$\\displaystyle \\phi = H_{c} \\left(K_{fwd} m_{grip} + f_{d}\\right)$"
      ],
      "text/plain": [
       "Eq(\\phi, H_c*(K_fwd*m_grip + f_d))"
      ]
     },
     "metadata": {},
     "output_type": "display_data"
    },
    {
     "name": "stdout",
     "output_type": "stream",
     "text": [
      "manipulator movement\n"
     ]
    },
    {
     "data": {
      "text/latex": [
       "$\\displaystyle x_{m} = H_{fb} \\phi$"
      ],
      "text/plain": [
       "Eq(x_m, H_fb*\\phi)"
      ]
     },
     "metadata": {},
     "output_type": "display_data"
    }
   ],
   "source": [
    "# Sander's problem, open loop\n",
    "\n",
    "# tf's nms\n",
    "Hact, Hgto, Hms, Hi, Harm, Hskin = symbols(\"H_act H_gto H_ms H_i H_arm H_skin\")\n",
    "\n",
    "# symbols nms\n",
    "usup, ugto, ums, mrefl, mmus, mi, mres, xarm, xm, mgrip = symbols(\n",
    "    \"u_sup, u_gto, u_ms, u_refl, m_mus, m_i, m_res, x_arm, x_m, m_grip\")\n",
    "\n",
    "# pilot equalization, simple\n",
    "Hp, e = symbols(\"H_p e\")\n",
    "\n",
    "# active stick system elements\n",
    "Kfwd, Hc, Hfb = symbols(\"K_fwd H_c H_fb\")\n",
    "\n",
    "# active stick system symbols\n",
    "fd, u, phi = symbols(\"f_d u \\phi\")\n",
    "\n",
    "# equations\n",
    "eqns = {}\n",
    "\n",
    "# pilot tf \n",
    "eqns[\"pilot equalisation\"] = Eq(usup, Hp*e)\n",
    "\n",
    "# activation\n",
    "eqns[\"activation dynamic\"] = Eq(mrefl, (usup - ugto - ums)*Hact)\n",
    "\n",
    "# ms signal\n",
    "eqns[\"ms signal\"] = Eq(ums, Hms*xarm)\n",
    "\n",
    "# muscle force \n",
    "eqns[\"muscle force\"] = Eq(mmus, mrefl-mi)\n",
    "\n",
    "# gto activation output\n",
    "eqns[\"gto signal\"] = Eq(ugto, Hgto * mmus)\n",
    "\n",
    "# intrinsic muscle force\n",
    "eqns[\"intrinsic muscle force\"] = Eq(mi, Hi*xarm)\n",
    "\n",
    "# resultant force on the limb\n",
    "eqns[\"resultant limb force\"] = Eq(mres, mmus - mgrip)\n",
    "     \n",
    "# arm position\n",
    "eqns[\"limb dynamics\"] = Eq(xarm, Harm*mres)\n",
    "     \n",
    "# grip moment\n",
    "eqns[\"grip dynamics\"] = Eq(mgrip, Hskin*(xarm - xm))\n",
    "\n",
    "# system dynamics\n",
    "eqns[\"system dynamics\"] = Eq(phi, Hc*(fd + Kfwd*mgrip))\n",
    "     \n",
    "# manipulator movement\n",
    "eqns[\"manipulator movement\"] = Eq(xm, Hfb*(phi))\n",
    "     \n",
    "# printem all\n",
    "     \n",
    "for desc, eq in eqns.items():\n",
    "     print(desc)\n",
    "     display(eq)\n",
    " "
   ]
  },
  {
   "cell_type": "code",
   "execution_count": 6,
   "id": "young-executive",
   "metadata": {},
   "outputs": [
    {
     "name": "stdout",
     "output_type": "stream",
     "text": [
      "response to e input, open loop\n"
     ]
    },
    {
     "data": {
      "text/latex": [
       "$\\displaystyle \\frac{H_{act} H_{arm} H_{c} H_{p} H_{skin} K_{fwd} e}{H_{act} H_{arm} H_{c} H_{fb} H_{ms} H_{skin} K_{fwd} + H_{act} H_{arm} H_{gto} H_{skin} + H_{act} H_{arm} H_{ms} + H_{act} H_{c} H_{fb} H_{gto} H_{skin} K_{fwd} + H_{act} H_{gto} + H_{arm} H_{c} H_{fb} H_{i} H_{skin} K_{fwd} + H_{arm} H_{i} + H_{arm} H_{skin} + H_{c} H_{fb} H_{skin} K_{fwd} + 1}$"
      ],
      "text/plain": [
       "H_act*H_arm*H_c*H_p*H_skin*K_fwd*e/(H_act*H_arm*H_c*H_fb*H_ms*H_skin*K_fwd + H_act*H_arm*H_gto*H_skin + H_act*H_arm*H_ms + H_act*H_c*H_fb*H_gto*H_skin*K_fwd + H_act*H_gto + H_arm*H_c*H_fb*H_i*H_skin*K_fwd + H_arm*H_i + H_arm*H_skin + H_c*H_fb*H_skin*K_fwd + 1)"
      ]
     },
     "metadata": {},
     "output_type": "display_data"
    },
    {
     "name": "stdout",
     "output_type": "stream",
     "text": [
      "response to disturbance input, open loop\n"
     ]
    },
    {
     "data": {
      "text/latex": [
       "$\\displaystyle \\frac{- H_{act} H_{arm} H_{c} H_{gto} H_{skin} f_{d} - H_{act} H_{arm} H_{c} H_{ms} f_{d} - H_{act} H_{c} H_{gto} f_{d} - H_{arm} H_{c} H_{i} f_{d} - H_{arm} H_{c} H_{skin} f_{d} - H_{c} f_{d}}{H_{act} H_{arm} H_{gto} H_{skin} + H_{act} H_{arm} H_{ms} + H_{act} H_{gto} + H_{arm} H_{i} + H_{arm} H_{skin} + 1}$"
      ],
      "text/plain": [
       "(-H_act*H_arm*H_c*H_gto*H_skin*f_d - H_act*H_arm*H_c*H_ms*f_d - H_act*H_c*H_gto*f_d - H_arm*H_c*H_i*f_d - H_arm*H_c*H_skin*f_d - H_c*f_d)/(H_act*H_arm*H_gto*H_skin + H_act*H_arm*H_ms + H_act*H_gto + H_arm*H_i + H_arm*H_skin + 1)"
      ]
     },
     "metadata": {},
     "output_type": "display_data"
    }
   ],
   "source": [
    "result = solve(eqns.values(), [phi, xm, mgrip, mmus, usup, ugto, mrefl, ums, mres, mi, xarm])\n",
    "\n",
    "print('response to e input, open loop')\n",
    "\n",
    "display(result[phi].subs(fd, 0))\n",
    "\n",
    "print('response to disturbance input, open loop')\n",
    "eqnsd = eqns.copy()\n",
    "ut = symbols(\"u_t\")\n",
    "eqnsd[\"display feedback\"] = Eq(e, ut - phi)\n",
    "resultd = solve(eqnsd.values(), [e, phi, xm, mgrip, mmus, usup, ugto, mrefl, ums, mres, mi, xarm])\n",
    "display(resultd[e].subs({ut: 0, Kfwd: 0}))\n"
   ]
  },
  {
   "cell_type": "code",
   "execution_count": null,
   "id": "fuzzy-details",
   "metadata": {},
   "outputs": [],
   "source": [
    "# make it a closed-loop system\n",
    "eqns[\"display feedback\"] = Eq(e, ut - phi)\n",
    "\n",
    "result2 = solve(eqns.values(), [phi, xm, mgrip, mmus, usup, ugto, mrefl, ums, mres, mi, xarm, e])\n",
    "\n",
    "print('response to target input, closed loop')\n",
    "\n",
    "display(result2[phi].subs(fd, 0))\n",
    "print(result2[phi].subs(fd, 0))"
   ]
  },
  {
   "cell_type": "code",
   "execution_count": null,
   "id": "straight-weekly",
   "metadata": {},
   "outputs": [],
   "source": [
    "import control.matlab as ml\n",
    "from control import TransferFunction\n",
    "\n",
    "# use the control package to get in the tf's\n",
    "s = TransferFunction.s\n",
    "\n",
    "K_p = 9\n",
    "K_v = 2\n",
    "H_ms = (K_p + K_v*s)*ml.tf(*ml.pade(0.025, 2))\n",
    "\n",
    "K_f = -1.5\n",
    "H_gto = K_f*(ml.tf(*ml.pade(0.025, 1)))\n",
    "\n",
    "I_arm = 0.01\n",
    "H_arm = 1/(I_arm * s**2)\n",
    "\n",
    "B_i = 0.08\n",
    "K_i = 4\n",
    "H_i = K_i + B_i*s\n",
    "\n",
    "w_act = 14\n",
    "b_act = 0.7\n",
    "H_act = 1/(s**2/w_act**2 + 2*b_act/w_act*s + 1)\n",
    "\n",
    "K_skin = 165\n",
    "B_skin = 2\n",
    "H_skin = K_skin + B_skin*s\n",
    "\n",
    "# only a gain?\n",
    "H_p = ml.tf(*ml.pade(0.025, 2))\n",
    "\n",
    "K_fwd = 2.5\n",
    "K_phidot = -0.2857\n",
    "H_fb = K_phidot*s\n",
    "\n",
    "K_c = -3.5\n",
    "H_c = K_c*(2.259*s**2 + 0.821*s + 1)/((0.083*s+1)*s*(0.4*s+1)*(1.1647*s**2+0.336*s+1))\n",
    "res = ml.bode(H_c)\n",
    "\n",
    "\n"
   ]
  },
  {
   "cell_type": "code",
   "execution_count": null,
   "id": "dedicated-contract",
   "metadata": {},
   "outputs": [],
   "source": [
    "import numpy as np\n",
    "\n",
    "# this results in an expression for the open loop\n",
    "expr = str(result[phi].subs({fd: 0, e:1}))\n",
    "print(expr, '\\n')\n",
    "\n",
    "# run it through eval, so it combines with the tf's defined above\n",
    "Hopen = eval(expr)\n",
    "res = ml.bode(Hopen, np.logspace(-2, 2))\n",
    "\n",
    "expr = str(result2[phi].subs({fd: 0, ut: 1}))\n",
    "print(expr)\n",
    "Hclosed = eval(expr)\n",
    "res = ml.bode(Hclosed, np.logspace(-2, 2))"
   ]
  },
  {
   "cell_type": "code",
   "execution_count": null,
   "id": "aggregate-attempt",
   "metadata": {},
   "outputs": [],
   "source": [
    "# and now with Hfb = 0\n",
    "# help(result[phi].subs)\n",
    "Hopen2 = eval(str(result[phi].subs({fd:0, e:1, Hfb:0})))\n",
    "res = ml.bode(Hopen2, np.logspace(-2, 2))\n",
    "\n",
    "Hclosed2 = eval(str(result2[phi].subs({fd:0, ut:1, Hfb:0})))\n",
    "res = ml.bode(Hclosed2, np.logspace(-2, 2))\n",
    "              "
   ]
  },
  {
   "cell_type": "markdown",
   "id": "amber-nicholas",
   "metadata": {},
   "source": [
    "## conclusions\n",
    "\n",
    "With the active stick feedback Hfb reduced to 0, the plant dynamics are visible again in the open loop. Because the stick does not move, the effective gain into the system becomes higher. Closed-loop behaviour is good. \n",
    "\n",
    "The previous case, with non-zero Hfb, had a lower cross-over because the stick yields. To compensate and get the same effect, pilot gain can be increased. The haptic feedback (present in open-loop already) effectively removes the system dynamics around 1 rad/s"
   ]
  }
 ],
 "metadata": {
  "kernelspec": {
   "display_name": "Python 3",
   "language": "python",
   "name": "python3"
  },
  "language_info": {
   "codemirror_mode": {
    "name": "ipython",
    "version": 3
   },
   "file_extension": ".py",
   "mimetype": "text/x-python",
   "name": "python",
   "nbconvert_exporter": "python",
   "pygments_lexer": "ipython3",
   "version": "3.8.8"
  }
 },
 "nbformat": 4,
 "nbformat_minor": 5
}
